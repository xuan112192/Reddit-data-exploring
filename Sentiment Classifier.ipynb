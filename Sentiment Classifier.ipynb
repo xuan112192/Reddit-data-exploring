{
 "cells": [
  {
   "cell_type": "markdown",
   "metadata": {},
   "source": [
    "### Libraries and Dataset"
   ]
  },
  {
   "cell_type": "code",
   "execution_count": 131,
   "metadata": {},
   "outputs": [
    {
     "name": "stderr",
     "output_type": "stream",
     "text": [
      "[nltk_data] Downloading package stopwords to\n",
      "[nltk_data]     /home/xuan1113/nltk_data...\n",
      "[nltk_data]   Package stopwords is already up-to-date!\n"
     ]
    }
   ],
   "source": [
    "import numpy as np\n",
    "import pandas as pd # data processing\n",
    "\n",
    "import re\n",
    "import string\n",
    "\n",
    "import nltk #NLP\n",
    "from nltk.sentiment.vader import SentimentIntensityAnalyzer as SIA\n",
    "from nltk.tokenize import word_tokenize\n",
    "import contractions\n",
    "from nltk.corpus import stopwords\n",
    "from nltk.stem import WordNetLemmatizer\n",
    "from nltk.stem import PorterStemmer\n",
    "nltk.download('stopwords')\n",
    "\n",
    "\n",
    "from sklearn.feature_extraction.text import TfidfVectorizer\n",
    "from sklearn.base import BaseEstimator, TransformerMixin\n",
    "from sklearn.pipeline import Pipeline\n",
    "\n",
    "\n",
    "import matplotlib.pyplot as plt\n",
    "import seaborn as sns\n",
    "sns.set_style('darkgrid')\n",
    "\n",
    "import random\n",
    "import warnings\n",
    "warnings.filterwarnings('ignore')"
   ]
  },
  {
   "cell_type": "code",
   "execution_count": 132,
   "metadata": {},
   "outputs": [
    {
     "data": {
      "text/html": [
       "<div>\n",
       "<style scoped>\n",
       "    .dataframe tbody tr th:only-of-type {\n",
       "        vertical-align: middle;\n",
       "    }\n",
       "\n",
       "    .dataframe tbody tr th {\n",
       "        vertical-align: top;\n",
       "    }\n",
       "\n",
       "    .dataframe thead th {\n",
       "        text-align: right;\n",
       "    }\n",
       "</style>\n",
       "<table border=\"1\" class=\"dataframe\">\n",
       "  <thead>\n",
       "    <tr style=\"text-align: right;\">\n",
       "      <th></th>\n",
       "      <th>comment</th>\n",
       "    </tr>\n",
       "  </thead>\n",
       "  <tbody>\n",
       "    <tr>\n",
       "      <th>0</th>\n",
       "      <td>TLDR: \\n\\n+ Civil Suit\\n+ Alleges Trump of fra...</td>\n",
       "    </tr>\n",
       "    <tr>\n",
       "      <th>1</th>\n",
       "      <td>&gt;\\tMar-a-Lago \"generated less than $25 million...</td>\n",
       "    </tr>\n",
       "    <tr>\n",
       "      <th>2</th>\n",
       "      <td>I don’t quite understand how someone can be af...</td>\n",
       "    </tr>\n",
       "    <tr>\n",
       "      <th>3</th>\n",
       "      <td>The same people who stole money from cancer ch...</td>\n",
       "    </tr>\n",
       "    <tr>\n",
       "      <th>4</th>\n",
       "      <td>And this is how he'll be forced to admit he's ...</td>\n",
       "    </tr>\n",
       "  </tbody>\n",
       "</table>\n",
       "</div>"
      ],
      "text/plain": [
       "                                             comment\n",
       "0  TLDR: \\n\\n+ Civil Suit\\n+ Alleges Trump of fra...\n",
       "1  >\\tMar-a-Lago \"generated less than $25 million...\n",
       "2  I don’t quite understand how someone can be af...\n",
       "3  The same people who stole money from cancer ch...\n",
       "4  And this is how he'll be forced to admit he's ..."
      ]
     },
     "execution_count": 132,
     "metadata": {},
     "output_type": "execute_result"
    }
   ],
   "source": [
    "# Read in dataset.\n",
    "raw_data = pd.read_csv('New York sues Donald Trump, company and family members over widespread fraud claims, seeks at least $250 million in penalties.csv')\n",
    "raw_data.head(5)"
   ]
  },
  {
   "cell_type": "markdown",
   "metadata": {},
   "source": [
    "### Data Preprocessing"
   ]
  },
  {
   "cell_type": "code",
   "execution_count": 133,
   "metadata": {},
   "outputs": [],
   "source": [
    "# Drop NAs\n",
    "raw_data = raw_data.dropna()"
   ]
  },
  {
   "cell_type": "code",
   "execution_count": 134,
   "metadata": {},
   "outputs": [],
   "source": [
    "# Define functions for cleaning.\n",
    "def preprocess_text(text:str):\n",
    "    \"\"\"\n",
    "    This utility function normalize a string by:\n",
    "    - transforming in lowercase\n",
    "    - expanding contractions\n",
    "    - removing Usernames\n",
    "    - removing links\n",
    "    - removing hashtags\n",
    "    - removing special/single characters\n",
    "    - removing numbers \n",
    "    - removing multiple whitespaces\n",
    "    - removing stopwords   \n",
    "    - Stemming : suffix stripping\n",
    "    - Lemmatization : get the root word\n",
    "    \n",
    "    \n",
    "    Args:\n",
    "        text (str): the input text you want to clean\n",
    "        remove_stopwords (bool): whether or not to remove stopwords\n",
    "    Returns:\n",
    "        str: the cleaned text\n",
    "    \"\"\"\n",
    "\n",
    "    # Convert all characters to lowercase\n",
    "    text = text.lower()\n",
    "    # Replacing contractions\n",
    "    text = contractions.fix(text)\n",
    "    # Remove username after @\n",
    "    text = re.sub(r'@[^\\s]+','',text)\n",
    "    # Remove URLs\n",
    "    text = re.sub(r\"http\\S+\", '', text)\n",
    "    # Remove hashtags\n",
    "    text = re.sub(r'#[^\\s]+', '', text)\n",
    "    # Replace all the special characters and numbers with space\n",
    "    text = re.sub(r\"[^A-Za-z]+\", ' ',text)\n",
    "    # Remove all single characters\n",
    "    text = re.sub(r'\\s[a-zA-Z]\\s', ' ',text)\n",
    "    # Substituting multiple spaces with single space\n",
    "    text = re.sub(r'\\s+', ' ', text, flags=re.I)\n",
    "\n",
    "    # Stemming / Lemmatization / Remove stop words\n",
    "    # Tokenize : breaking down sentence into word token.\n",
    "    tokens = word_tokenize(text)\n",
    "    # Check for stop words\n",
    "    tokens = [w for w in tokens if w not in stopwords.words(\"english\")]\n",
    "    # Stemming\n",
    "    ps = PorterStemmer()\n",
    "    tokens = [ps.stem(w) for w in tokens]\n",
    "    # Lemmatization\n",
    "    wnetl = WordNetLemmatizer()\n",
    "    tokens = [wnetl.lemmatize(w) for w in tokens]\n",
    "    # Join cleaned words back together.\n",
    "    text = \" \".join(tokens)\n",
    "\n",
    "    return text\n"
   ]
  },
  {
   "cell_type": "code",
   "execution_count": 135,
   "metadata": {},
   "outputs": [],
   "source": [
    "def add_sentiment(text:str):\n",
    "    \"\"\"\n",
    "    Function extract sentiment score from a text, value range from -1 to 1,\n",
    "    where 1 is the most positive value, -1 otherwise.\n",
    "\n",
    "    Args:\n",
    "        text(str): input text to parse.\n",
    "    \n",
    "    Returns:\n",
    "        sentiment(str): Positive or Negative.\n",
    "    \"\"\"\n",
    "    sia = SIA()\n",
    "    if sia.polarity_scores(text)['compound'] > 0 :\n",
    "        return 'POSITIVE'\n",
    "    elif sia.polarity_scores(text)['compound'] == 0:\n",
    "        return 'NEGATIVE'\n",
    "    else:\n",
    "        return 'NEUTRAL'\n"
   ]
  },
  {
   "cell_type": "code",
   "execution_count": 136,
   "metadata": {},
   "outputs": [],
   "source": [
    "class Preprocessor(BaseEstimator, TransformerMixin):\n",
    "    \"\"\"\n",
    "    This class is used as a pipeline and is inheriting from sklearn BaseEstimator and TransformerMixin\n",
    "    This allows us to customize transforms and the final estimator that sklearn does not offer.\n",
    "    We need to build this class to clean our train and test data as a pipeline transform.\n",
    "    \"\"\"\n",
    "    def __init__(self):\n",
    "        return None\n",
    "\n",
    "    def fit(self, X=None):\n",
    "        return self\n",
    "\n",
    "    def transform(self, X=None):\n",
    "        cleaned = X.apply(lambda x:preprocess_text(x))\n",
    "\n",
    "        return cleaned\n"
   ]
  },
  {
   "cell_type": "code",
   "execution_count": 137,
   "metadata": {},
   "outputs": [],
   "source": [
    "class SentimentAnalysis(BaseEstimator, TransformerMixin):\n",
    "    \"\"\"\n",
    "    Class used to generate sentiment.\n",
    "    \"\"\"\n",
    "    def __init__(self):\n",
    "        return None\n",
    "\n",
    "    def fit(self, X=None):\n",
    "        return self\n",
    "        \n",
    "    def transform(self, X=None):\n",
    "        sentiment = X.apply(lambda x: add_sentiment(x))\n",
    "        return {'text':X,'sentiment':sentiment}"
   ]
  },
  {
   "cell_type": "code",
   "execution_count": 138,
   "metadata": {},
   "outputs": [
    {
     "data": {
      "text/html": [
       "<div>\n",
       "<style scoped>\n",
       "    .dataframe tbody tr th:only-of-type {\n",
       "        vertical-align: middle;\n",
       "    }\n",
       "\n",
       "    .dataframe tbody tr th {\n",
       "        vertical-align: top;\n",
       "    }\n",
       "\n",
       "    .dataframe thead th {\n",
       "        text-align: right;\n",
       "    }\n",
       "</style>\n",
       "<table border=\"1\" class=\"dataframe\">\n",
       "  <thead>\n",
       "    <tr style=\"text-align: right;\">\n",
       "      <th></th>\n",
       "      <th>text</th>\n",
       "      <th>sentiment</th>\n",
       "    </tr>\n",
       "  </thead>\n",
       "  <tbody>\n",
       "    <tr>\n",
       "      <th>0</th>\n",
       "      <td>tldr civil suit alleg trump fraud span year in...</td>\n",
       "      <td>NEUTRAL</td>\n",
       "    </tr>\n",
       "    <tr>\n",
       "      <th>1</th>\n",
       "      <td>mar lago gener le million annual revenu suit s...</td>\n",
       "      <td>NEGATIVE</td>\n",
       "    </tr>\n",
       "    <tr>\n",
       "      <th>2</th>\n",
       "      <td>quit understand someon affili mani convict peo...</td>\n",
       "      <td>NEUTRAL</td>\n",
       "    </tr>\n",
       "    <tr>\n",
       "      <th>3</th>\n",
       "      <td>peopl stole money cancer chariti would never c...</td>\n",
       "      <td>NEUTRAL</td>\n",
       "    </tr>\n",
       "    <tr>\n",
       "      <th>4</th>\n",
       "      <td>forc admit broke</td>\n",
       "      <td>NEUTRAL</td>\n",
       "    </tr>\n",
       "  </tbody>\n",
       "</table>\n",
       "</div>"
      ],
      "text/plain": [
       "                                                text sentiment\n",
       "0  tldr civil suit alleg trump fraud span year in...   NEUTRAL\n",
       "1  mar lago gener le million annual revenu suit s...  NEGATIVE\n",
       "2  quit understand someon affili mani convict peo...   NEUTRAL\n",
       "3  peopl stole money cancer chariti would never c...   NEUTRAL\n",
       "4                                   forc admit broke   NEUTRAL"
      ]
     },
     "execution_count": 138,
     "metadata": {},
     "output_type": "execute_result"
    }
   ],
   "source": [
    "# Pipeline implementation\n",
    "preprocess_pipeline = Pipeline(steps=[\n",
    "    ('preprocess', Preprocessor()), # first step is to preprocess the text \n",
    "    ('sentiment', SentimentAnalysis()) # second step obtains the sentiment of the text\n",
    "])\n",
    "\n",
    "final = pd.DataFrame(preprocess_pipeline.fit_transform(X=raw_data['comment']))\n",
    "final.head()"
   ]
  },
  {
   "cell_type": "markdown",
   "metadata": {},
   "source": [
    "### Feature Engineering"
   ]
  },
  {
   "cell_type": "code",
   "execution_count": 139,
   "metadata": {},
   "outputs": [
    {
     "name": "stdout",
     "output_type": "stream",
     "text": [
      "<class 'pandas.core.frame.DataFrame'>\n",
      "RangeIndex: 85 entries, 0 to 84\n",
      "Data columns (total 2 columns):\n",
      " #   Column     Non-Null Count  Dtype \n",
      "---  ------     --------------  ----- \n",
      " 0   text       85 non-null     object\n",
      " 1   sentiment  85 non-null     object\n",
      "dtypes: object(2)\n",
      "memory usage: 1.5+ KB\n"
     ]
    }
   ],
   "source": [
    "# Explore the data frame.\n",
    "final.info()"
   ]
  },
  {
   "cell_type": "code",
   "execution_count": 140,
   "metadata": {},
   "outputs": [
    {
     "data": {
      "text/plain": [
       "NEUTRAL     33\n",
       "POSITIVE    29\n",
       "NEGATIVE    23\n",
       "Name: sentiment, dtype: int64"
      ]
     },
     "execution_count": 140,
     "metadata": {},
     "output_type": "execute_result"
    }
   ],
   "source": [
    "final['sentiment'].value_counts()"
   ]
  },
  {
   "cell_type": "markdown",
   "metadata": {},
   "source": [
    "+ Now we have 2 columns in the dataframe - text and sentiment. Sentiment is the target column to predic. We only need to predict positive and negative sentiment, so neutral sentiment will be removed from the dataframe. The dataset is unbalanced as it contains more number of positive text compare to negative ones, we need to convert adjust them to even amount to make sure our model won't bias."
   ]
  },
  {
   "cell_type": "code",
   "execution_count": 141,
   "metadata": {},
   "outputs": [
    {
     "data": {
      "text/plain": [
       "NEGATIVE    23\n",
       "POSITIVE    23\n",
       "Name: sentiment, dtype: int64"
      ]
     },
     "execution_count": 141,
     "metadata": {},
     "output_type": "execute_result"
    }
   ],
   "source": [
    "# Removing Neutral sentiments.\n",
    "final = final[final.sentiment != 'NEUTRAL']\n",
    "\n",
    "# Randomly drop 6 positive sentiments to have even number of positive and negative data.\n",
    "final.drop(final[final['sentiment']=='POSITIVE'].sample(n=6).index, inplace=True)\n",
    "\n",
    "final['sentiment'].value_counts()\n"
   ]
  },
  {
   "cell_type": "code",
   "execution_count": 142,
   "metadata": {},
   "outputs": [
    {
     "data": {
      "text/html": [
       "<div>\n",
       "<style scoped>\n",
       "    .dataframe tbody tr th:only-of-type {\n",
       "        vertical-align: middle;\n",
       "    }\n",
       "\n",
       "    .dataframe tbody tr th {\n",
       "        vertical-align: top;\n",
       "    }\n",
       "\n",
       "    .dataframe thead th {\n",
       "        text-align: right;\n",
       "    }\n",
       "</style>\n",
       "<table border=\"1\" class=\"dataframe\">\n",
       "  <thead>\n",
       "    <tr style=\"text-align: right;\">\n",
       "      <th></th>\n",
       "      <th>text</th>\n",
       "      <th>sentiment</th>\n",
       "      <th>label</th>\n",
       "    </tr>\n",
       "  </thead>\n",
       "  <tbody>\n",
       "    <tr>\n",
       "      <th>1</th>\n",
       "      <td>mar lago gener le million annual revenu suit s...</td>\n",
       "      <td>NEGATIVE</td>\n",
       "      <td>0</td>\n",
       "    </tr>\n",
       "    <tr>\n",
       "      <th>5</th>\n",
       "      <td>bank loan money without due dilig scrutini bla...</td>\n",
       "      <td>POSITIVE</td>\n",
       "      <td>1</td>\n",
       "    </tr>\n",
       "    <tr>\n",
       "      <th>9</th>\n",
       "      <td>million</td>\n",
       "      <td>NEGATIVE</td>\n",
       "      <td>0</td>\n",
       "    </tr>\n",
       "    <tr>\n",
       "      <th>10</th>\n",
       "      <td>one adult kid go turn donald trump first money...</td>\n",
       "      <td>NEGATIVE</td>\n",
       "      <td>0</td>\n",
       "    </tr>\n",
       "    <tr>\n",
       "      <th>13</th>\n",
       "      <td>great businessman need illeg pac illeg chariti...</td>\n",
       "      <td>POSITIVE</td>\n",
       "      <td>1</td>\n",
       "    </tr>\n",
       "  </tbody>\n",
       "</table>\n",
       "</div>"
      ],
      "text/plain": [
       "                                                 text sentiment  label\n",
       "1   mar lago gener le million annual revenu suit s...  NEGATIVE      0\n",
       "5   bank loan money without due dilig scrutini bla...  POSITIVE      1\n",
       "9                                             million  NEGATIVE      0\n",
       "10  one adult kid go turn donald trump first money...  NEGATIVE      0\n",
       "13  great businessman need illeg pac illeg chariti...  POSITIVE      1"
      ]
     },
     "execution_count": 142,
     "metadata": {},
     "output_type": "execute_result"
    }
   ],
   "source": [
    "# Convert labels to numeric forms.\n",
    "final['label'] = final['sentiment'].replace({'POSITIVE':1,'NEGATIVE':0})\n",
    "final.head()"
   ]
  },
  {
   "cell_type": "markdown",
   "metadata": {},
   "source": [
    "### Train, test, split"
   ]
  },
  {
   "cell_type": "markdown",
   "metadata": {},
   "source": []
  },
  {
   "cell_type": "code",
   "execution_count": null,
   "metadata": {},
   "outputs": [],
   "source": []
  }
 ],
 "metadata": {
  "kernelspec": {
   "display_name": "Python 3.10.4 ('redditProject')",
   "language": "python",
   "name": "python3"
  },
  "language_info": {
   "codemirror_mode": {
    "name": "ipython",
    "version": 3
   },
   "file_extension": ".py",
   "mimetype": "text/x-python",
   "name": "python",
   "nbconvert_exporter": "python",
   "pygments_lexer": "ipython3",
   "version": "3.10.4"
  },
  "orig_nbformat": 4,
  "vscode": {
   "interpreter": {
    "hash": "a57e3824fba0a117152c644778be39002ac47d5f16a0be86b135f8643d52bfd1"
   }
  }
 },
 "nbformat": 4,
 "nbformat_minor": 2
}
