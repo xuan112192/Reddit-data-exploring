{
 "cells": [
  {
   "cell_type": "markdown",
   "id": "acbc2873",
   "metadata": {},
   "source": [
    "### Import Necessary Library"
   ]
  },
  {
   "cell_type": "code",
   "execution_count": 1,
   "id": "9694dee6",
   "metadata": {},
   "outputs": [
    {
     "ename": "ModuleNotFoundError",
     "evalue": "No module named 'pandas'",
     "output_type": "error",
     "traceback": [
      "\u001b[0;31m---------------------------------------------------------------------------\u001b[0m",
      "\u001b[0;31mModuleNotFoundError\u001b[0m                       Traceback (most recent call last)",
      "\u001b[1;32m/mnt/c/Users/xuan1/OneDrive/Documents/GitHub/Reddit-data-exploring/Reddit Web Scaping.ipynb Cell 2'\u001b[0m in \u001b[0;36m<cell line: 3>\u001b[0;34m()\u001b[0m\n\u001b[1;32m      <a href='vscode-notebook-cell://wsl%2Bubuntu/mnt/c/Users/xuan1/OneDrive/Documents/GitHub/Reddit-data-exploring/Reddit%20Web%20Scaping.ipynb#ch0000001vscode-remote?line=0'>1</a>\u001b[0m \u001b[39mimport\u001b[39;00m \u001b[39mpraw\u001b[39;00m\n\u001b[1;32m      <a href='vscode-notebook-cell://wsl%2Bubuntu/mnt/c/Users/xuan1/OneDrive/Documents/GitHub/Reddit-data-exploring/Reddit%20Web%20Scaping.ipynb#ch0000001vscode-remote?line=1'>2</a>\u001b[0m \u001b[39mimport\u001b[39;00m \u001b[39mjson\u001b[39;00m\n\u001b[0;32m----> <a href='vscode-notebook-cell://wsl%2Bubuntu/mnt/c/Users/xuan1/OneDrive/Documents/GitHub/Reddit-data-exploring/Reddit%20Web%20Scaping.ipynb#ch0000001vscode-remote?line=2'>3</a>\u001b[0m \u001b[39mimport\u001b[39;00m \u001b[39mpandas\u001b[39;00m \u001b[39mas\u001b[39;00m \u001b[39mpd\u001b[39;00m\n",
      "\u001b[0;31mModuleNotFoundError\u001b[0m: No module named 'pandas'"
     ]
    }
   ],
   "source": [
    "import praw\n",
    "import json\n",
    "import pandas as pd"
   ]
  },
  {
   "cell_type": "code",
   "execution_count": null,
   "id": "a6706e46",
   "metadata": {},
   "outputs": [],
   "source": []
  },
  {
   "cell_type": "markdown",
   "id": "9dff89f0",
   "metadata": {},
   "source": [
    "### Create PRAW instance"
   ]
  },
  {
   "cell_type": "code",
   "execution_count": null,
   "id": "fcfd3efc",
   "metadata": {},
   "outputs": [],
   "source": [
    "#In this case, we only need to scrape pubilic information on colorado subreddit.\n",
    "#Read-only instance\n",
    "client_id = 'picc1mNrisHehkvl9Q-quA'\n",
    "client_secret = 'GB0xd8R6CFI-cp7UcSm0D6Msl1P6ow'\n",
    "user_agent = 'project_api'\n",
    "\n",
    "\n",
    "reddit_read_only = praw.Reddit(client_id = client_id,\n",
    "                              client_secret = client_secret,\n",
    "                              user_agent = user_agent)\n"
   ]
  },
  {
   "cell_type": "code",
   "execution_count": null,
   "id": "ead935bc",
   "metadata": {},
   "outputs": [],
   "source": []
  }
 ],
 "metadata": {
  "kernelspec": {
   "display_name": "Python 3.10.4 ('redditProject')",
   "language": "python",
   "name": "python3"
  },
  "language_info": {
   "codemirror_mode": {
    "name": "ipython",
    "version": 3
   },
   "file_extension": ".py",
   "mimetype": "text/x-python",
   "name": "python",
   "nbconvert_exporter": "python",
   "pygments_lexer": "ipython3",
   "version": "3.10.4"
  },
  "vscode": {
   "interpreter": {
    "hash": "a57e3824fba0a117152c644778be39002ac47d5f16a0be86b135f8643d52bfd1"
   }
  }
 },
 "nbformat": 4,
 "nbformat_minor": 5
}
